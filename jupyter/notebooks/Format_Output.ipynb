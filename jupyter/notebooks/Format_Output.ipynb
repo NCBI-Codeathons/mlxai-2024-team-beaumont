{
 "cells": [
  {
   "cell_type": "markdown",
   "metadata": {},
   "source": [
    "# LLM Response Formatter Notebook\n",
    "\n",
    "This Jupyter notebook is designed to format the output of your LLM responses. "
   ]
  },
  {
   "cell_type": "code",
   "execution_count": 1,
   "metadata": {},
   "outputs": [],
   "source": [
    "import pandas as pd\n",
    "import ast\n",
    "from typing import List\n",
    "from langchain.chains import LLMChain\n",
    "from pydantic import BaseModel, Field\n",
    "from langchain.prompts import PromptTemplate\n",
    "from langchain.output_parsers import PydanticOutputParser"
   ]
  },
  {
   "cell_type": "code",
   "execution_count": 2,
   "metadata": {},
   "outputs": [],
   "source": [
    "llm_res_df = pd.read_csv('./llm_output/llm_res_df.csv')"
   ]
  },
  {
   "cell_type": "code",
   "execution_count": 3,
   "metadata": {},
   "outputs": [
    {
     "data": {
      "text/html": [
       "<div>\n",
       "<style scoped>\n",
       "    .dataframe tbody tr th:only-of-type {\n",
       "        vertical-align: middle;\n",
       "    }\n",
       "\n",
       "    .dataframe tbody tr th {\n",
       "        vertical-align: top;\n",
       "    }\n",
       "\n",
       "    .dataframe thead th {\n",
       "        text-align: right;\n",
       "    }\n",
       "</style>\n",
       "<table border=\"1\" class=\"dataframe\">\n",
       "  <thead>\n",
       "    <tr style=\"text-align: right;\">\n",
       "      <th></th>\n",
       "      <th>user_variable</th>\n",
       "      <th>user_description</th>\n",
       "      <th>llm_response</th>\n",
       "    </tr>\n",
       "  </thead>\n",
       "  <tbody>\n",
       "    <tr>\n",
       "      <th>count</th>\n",
       "      <td>10</td>\n",
       "      <td>10</td>\n",
       "      <td>10</td>\n",
       "    </tr>\n",
       "    <tr>\n",
       "      <th>unique</th>\n",
       "      <td>10</td>\n",
       "      <td>10</td>\n",
       "      <td>10</td>\n",
       "    </tr>\n",
       "    <tr>\n",
       "      <th>top</th>\n",
       "      <td>submitter_id</td>\n",
       "      <td>A project-specific identifier for a node. This...</td>\n",
       "      <td>('lines', ['1. UNIQUE COMMUNITY IDENTIFIER - T...</td>\n",
       "    </tr>\n",
       "    <tr>\n",
       "      <th>freq</th>\n",
       "      <td>1</td>\n",
       "      <td>1</td>\n",
       "      <td>1</td>\n",
       "    </tr>\n",
       "  </tbody>\n",
       "</table>\n",
       "</div>"
      ],
      "text/plain": [
       "       user_variable                                   user_description  \\\n",
       "count             10                                                 10   \n",
       "unique            10                                                 10   \n",
       "top     submitter_id  A project-specific identifier for a node. This...   \n",
       "freq               1                                                  1   \n",
       "\n",
       "                                             llm_response  \n",
       "count                                                  10  \n",
       "unique                                                 10  \n",
       "top     ('lines', ['1. UNIQUE COMMUNITY IDENTIFIER - T...  \n",
       "freq                                                    1  "
      ]
     },
     "execution_count": 3,
     "metadata": {},
     "output_type": "execute_result"
    }
   ],
   "source": [
    "llm_res_df.describe()"
   ]
  },
  {
   "cell_type": "code",
   "execution_count": 4,
   "metadata": {},
   "outputs": [],
   "source": [
    "# Output parser will split the LLM result into a list of queries\n",
    "class LineList(BaseModel):\n",
    "    # \"lines\" is the key (attribute name) of the parsed output\n",
    "    lines: List[str] = Field(description=\"Lines of text\")\n",
    "\n",
    "\n",
    "class LineListOutputParser(PydanticOutputParser):\n",
    "    def __init__(self) -> None:\n",
    "        super().__init__(pydantic_object=LineList)\n",
    "\n",
    "    def parse(self, text: str) -> LineList:\n",
    "        lines = text.strip().split(\"\\n\")\n",
    "        return LineList(lines=lines)\n",
    "\n",
    "output_parser = LineListOutputParser()\n"
   ]
  },
  {
   "cell_type": "code",
   "execution_count": 5,
   "metadata": {},
   "outputs": [],
   "source": [
    "def join_lines(lines: List[str]) -> str:\n",
    "    return \"\\n\".join(lines)"
   ]
  },
  {
   "cell_type": "code",
   "execution_count": 6,
   "metadata": {},
   "outputs": [],
   "source": [
    "llm_res_df['llm_response'] = llm_res_df['llm_response'].apply(lambda x: ast.literal_eval(x)[1])"
   ]
  },
  {
   "cell_type": "code",
   "execution_count": 7,
   "metadata": {},
   "outputs": [
    {
     "data": {
      "text/html": [
       "<div>\n",
       "<style scoped>\n",
       "    .dataframe tbody tr th:only-of-type {\n",
       "        vertical-align: middle;\n",
       "    }\n",
       "\n",
       "    .dataframe tbody tr th {\n",
       "        vertical-align: top;\n",
       "    }\n",
       "\n",
       "    .dataframe thead th {\n",
       "        text-align: right;\n",
       "    }\n",
       "</style>\n",
       "<table border=\"1\" class=\"dataframe\">\n",
       "  <thead>\n",
       "    <tr style=\"text-align: right;\">\n",
       "      <th></th>\n",
       "      <th>user_variable</th>\n",
       "      <th>user_description</th>\n",
       "      <th>llm_response</th>\n",
       "    </tr>\n",
       "  </thead>\n",
       "  <tbody>\n",
       "    <tr>\n",
       "      <th>0</th>\n",
       "      <td>submitter_id</td>\n",
       "      <td>A project-specific identifier for a node. This...</td>\n",
       "      <td>[1. UNIQUE COMMUNITY IDENTIFIER - This variabl...</td>\n",
       "    </tr>\n",
       "    <tr>\n",
       "      <th>1</th>\n",
       "      <td>participant_id</td>\n",
       "      <td>Unique identifier that can be used to retrieve...</td>\n",
       "      <td>[Existing Variables:, 1. PARTICIPANT IDENTIFIC...</td>\n",
       "    </tr>\n",
       "    <tr>\n",
       "      <th>2</th>\n",
       "      <td>consent_codes</td>\n",
       "      <td>Data Use Restrictions that are used to indicat...</td>\n",
       "      <td>[1. PERMISSION FOR NON-PROFIT USE OF DATA - Th...</td>\n",
       "    </tr>\n",
       "    <tr>\n",
       "      <th>3</th>\n",
       "      <td>amputation_type</td>\n",
       "      <td>If amputated, the amputation type for leg, abo...</td>\n",
       "      <td>[Existing Variables:, 1. AMPUTATION OF LOWER E...</td>\n",
       "    </tr>\n",
       "    <tr>\n",
       "      <th>4</th>\n",
       "      <td>cohort_id</td>\n",
       "      <td>The study subgroup that the participant belong...</td>\n",
       "      <td>[1. DONOR BLOOD GROUP - This existing variable...</td>\n",
       "    </tr>\n",
       "  </tbody>\n",
       "</table>\n",
       "</div>"
      ],
      "text/plain": [
       "     user_variable                                   user_description  \\\n",
       "0     submitter_id  A project-specific identifier for a node. This...   \n",
       "1   participant_id  Unique identifier that can be used to retrieve...   \n",
       "2    consent_codes  Data Use Restrictions that are used to indicat...   \n",
       "3  amputation_type  If amputated, the amputation type for leg, abo...   \n",
       "4        cohort_id  The study subgroup that the participant belong...   \n",
       "\n",
       "                                        llm_response  \n",
       "0  [1. UNIQUE COMMUNITY IDENTIFIER - This variabl...  \n",
       "1  [Existing Variables:, 1. PARTICIPANT IDENTIFIC...  \n",
       "2  [1. PERMISSION FOR NON-PROFIT USE OF DATA - Th...  \n",
       "3  [Existing Variables:, 1. AMPUTATION OF LOWER E...  \n",
       "4  [1. DONOR BLOOD GROUP - This existing variable...  "
      ]
     },
     "execution_count": 7,
     "metadata": {},
     "output_type": "execute_result"
    }
   ],
   "source": [
    "llm_res_df.head()"
   ]
  },
  {
   "cell_type": "code",
   "execution_count": 8,
   "metadata": {},
   "outputs": [],
   "source": [
    "with open('formatted_llmres.txt', 'w') as file:\n",
    "    for row in llm_res_df.iterrows():\n",
    "        row = row[1]\n",
    "        user_variable = row['user_variable']\n",
    "        prompt = row['user_description']\n",
    "        llm_response = row['llm_response']\n",
    "        \n",
    "        print(f\"Submitted Variable: {user_variable}\", file=file)\n",
    "        print(f\"Prompt: {prompt}\", file=file)\n",
    "        print(f\"Response: {join_lines(llm_response)}\", file=file)\n",
    "        print(file=file)\n",
    "        print(\"-\" * 50, file=file)  # Add a line break with dashes\n",
    "        print(file=file)  # Add a line break\n"
   ]
  }
 ],
 "metadata": {
  "kernelspec": {
   "display_name": "Python 3",
   "language": "python",
   "name": "python3"
  },
  "language_info": {
   "codemirror_mode": {
    "name": "ipython",
    "version": 3
   },
   "file_extension": ".py",
   "mimetype": "text/x-python",
   "name": "python",
   "nbconvert_exporter": "python",
   "pygments_lexer": "ipython3",
   "version": "3.12.1"
  }
 },
 "nbformat": 4,
 "nbformat_minor": 2
}
