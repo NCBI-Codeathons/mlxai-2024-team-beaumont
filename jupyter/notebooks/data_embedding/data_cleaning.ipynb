{
  "cells": [
    {
      "attachments": {},
      "cell_type": "markdown",
      "metadata": {
        "id": "2-XDGL6Oi6h4"
      },
      "source": [
        "# Data Preperation\n",
        "\n",
        "This code is to clean the source data in preperation for embedding the data into a vector database\n",
        "\n",
        "## INPUT\n",
        "\n",
        "CSV Data from raw_data directory\n",
        "\n",
        "## OUTCOME\n",
        "\n",
        "In order for this code to be successfully used in a vector db the following criteria must be met:\n",
        "- 1 column must be declared as the \"body\"\n",
        "  - it cannot have ANY null values\n",
        "- Any metadata fields must be declared with an explanation of their use\n",
        "- A decision on how to generate a Doc id that can allow the reverse lookup of the data needed in phase 3 (Variable generation) must be described in detail with pseudo code\n",
        "  - Example of current Doc id => ` ids = [f\"{doc.metadata['id']}-{doc.metadata['Variable']}\" for doc in docs_batch]`\n",
        "\n"
      ]
    },
    {
      "cell_type": "code",
      "execution_count": null,
      "metadata": {
        "id": "qi8B1fgywJzE"
      },
      "outputs": [],
      "source": [
        "# !pip install -qU \\\n",
        "#   pinecone-client==3.0.0 \\\n",
        "#   langchain==0.1.1 \\\n",
        "#   langchain-community==0.0.13 \\\n",
        "#   datasets==2.14.6 \\\n",
        "#   openai==1.6.1 \\\n",
        "#   tiktoken==0.5.2"
      ]
    },
    {
      "cell_type": "code",
      "execution_count": 17,
      "metadata": {},
      "outputs": [],
      "source": [
        "import pandas as pd\n",
        "import csv\n"
      ]
    },
    {
      "attachments": {},
      "cell_type": "markdown",
      "metadata": {
        "id": "CPmfrdJ9_2YA"
      },
      "source": [
        "## Getting Data"
      ]
    },
    {
      "attachments": {},
      "cell_type": "markdown",
      "metadata": {
        "id": "S4Py-rVqx-I0"
      },
      "source": [
        "We will download an existing dataset from Hugging Face Datasets."
      ]
    },
    {
      "cell_type": "code",
      "execution_count": 1,
      "metadata": {
        "id": "iatOGmKgz8NE"
      },
      "outputs": [
        {
          "data": {
            "text/plain": [
              "Dataset({\n",
              "    features: ['doi', 'chunk-id', 'chunk', 'id', 'title', 'summary', 'source', 'authors', 'categories', 'comment', 'journal_ref', 'primary_category', 'published', 'updated', 'references'],\n",
              "    num_rows: 41584\n",
              "})"
            ]
          },
          "execution_count": 1,
          "metadata": {},
          "output_type": "execute_result"
        }
      ],
      "source": [
        "# from datasets import load_dataset\n",
        "\n",
        "# data = load_dataset(\"jamescalam/ai-arxiv-chunked\", split=\"train\")\n",
        "# data"
      ]
    },
    {
      "cell_type": "code",
      "execution_count": 18,
      "metadata": {},
      "outputs": [
        {
          "data": {
            "text/html": [
              "<div>\n",
              "<style scoped>\n",
              "    .dataframe tbody tr th:only-of-type {\n",
              "        vertical-align: middle;\n",
              "    }\n",
              "\n",
              "    .dataframe tbody tr th {\n",
              "        vertical-align: top;\n",
              "    }\n",
              "\n",
              "    .dataframe thead th {\n",
              "        text-align: right;\n",
              "    }\n",
              "</style>\n",
              "<table border=\"1\" class=\"dataframe\">\n",
              "  <thead>\n",
              "    <tr style=\"text-align: right;\">\n",
              "      <th></th>\n",
              "      <th>Study</th>\n",
              "      <th>Variable</th>\n",
              "      <th>Label</th>\n",
              "    </tr>\n",
              "  </thead>\n",
              "  <tbody>\n",
              "    <tr>\n",
              "      <th>0</th>\n",
              "      <td>AADR</td>\n",
              "      <td>AUGDATE_FZD</td>\n",
              "      <td>Augmentation Date, fzd</td>\n",
              "    </tr>\n",
              "    <tr>\n",
              "      <th>1</th>\n",
              "      <td>AADR</td>\n",
              "      <td>AUGDATE_FZD</td>\n",
              "      <td>Augmentation date, fzd</td>\n",
              "    </tr>\n",
              "    <tr>\n",
              "      <th>2</th>\n",
              "      <td>AADR</td>\n",
              "      <td>CENTER</td>\n",
              "      <td>Center where testing done</td>\n",
              "    </tr>\n",
              "    <tr>\n",
              "      <th>3</th>\n",
              "      <td>AADR</td>\n",
              "      <td>CLINIC</td>\n",
              "      <td>Clinic</td>\n",
              "    </tr>\n",
              "    <tr>\n",
              "      <th>4</th>\n",
              "      <td>AADR</td>\n",
              "      <td>CLINIC</td>\n",
              "      <td>Clinical Center</td>\n",
              "    </tr>\n",
              "  </tbody>\n",
              "</table>\n",
              "</div>"
            ],
            "text/plain": [
              "  Study     Variable                      Label\n",
              "0  AADR  AUGDATE_FZD     Augmentation Date, fzd\n",
              "1  AADR  AUGDATE_FZD     Augmentation date, fzd\n",
              "2  AADR       CENTER  Center where testing done\n",
              "3  AADR       CLINIC                     Clinic\n",
              "4  AADR       CLINIC            Clinical Center"
            ]
          },
          "execution_count": 18,
          "metadata": {},
          "output_type": "execute_result"
        }
      ],
      "source": [
        "\n",
        "df = pd.read_csv('./raw_data/BIOLINCC_DEDUPDICTIONARY.csv', encoding='latin-1')\n",
        "df.rename(columns={'ï»¿Study': 'Study'}, inplace=True) # weird encoding issue...\n",
        "df.head()"
      ]
    },
    {
      "cell_type": "code",
      "execution_count": 19,
      "metadata": {},
      "outputs": [
        {
          "data": {
            "text/html": [
              "<div>\n",
              "<style scoped>\n",
              "    .dataframe tbody tr th:only-of-type {\n",
              "        vertical-align: middle;\n",
              "    }\n",
              "\n",
              "    .dataframe tbody tr th {\n",
              "        vertical-align: top;\n",
              "    }\n",
              "\n",
              "    .dataframe thead th {\n",
              "        text-align: right;\n",
              "    }\n",
              "</style>\n",
              "<table border=\"1\" class=\"dataframe\">\n",
              "  <thead>\n",
              "    <tr style=\"text-align: right;\">\n",
              "      <th></th>\n",
              "      <th>Study</th>\n",
              "      <th>Variable</th>\n",
              "      <th>Label</th>\n",
              "    </tr>\n",
              "  </thead>\n",
              "  <tbody>\n",
              "    <tr>\n",
              "      <th>count</th>\n",
              "      <td>472612</td>\n",
              "      <td>472604</td>\n",
              "      <td>388956</td>\n",
              "    </tr>\n",
              "    <tr>\n",
              "      <th>unique</th>\n",
              "      <td>240</td>\n",
              "      <td>381277</td>\n",
              "      <td>263317</td>\n",
              "    </tr>\n",
              "    <tr>\n",
              "      <th>top</th>\n",
              "      <td>MASM</td>\n",
              "      <td>AGE</td>\n",
              "      <td>Count per minute with missing values for non-w...</td>\n",
              "    </tr>\n",
              "    <tr>\n",
              "      <th>freq</th>\n",
              "      <td>65563</td>\n",
              "      <td>207</td>\n",
              "      <td>1440</td>\n",
              "    </tr>\n",
              "  </tbody>\n",
              "</table>\n",
              "</div>"
            ],
            "text/plain": [
              "         Study Variable                                              Label\n",
              "count   472612   472604                                             388956\n",
              "unique     240   381277                                             263317\n",
              "top       MASM      AGE  Count per minute with missing values for non-w...\n",
              "freq     65563      207                                               1440"
            ]
          },
          "execution_count": 19,
          "metadata": {},
          "output_type": "execute_result"
        }
      ],
      "source": [
        "df.describe()"
      ]
    },
    {
      "cell_type": "code",
      "execution_count": 20,
      "metadata": {},
      "outputs": [
        {
          "name": "stdout",
          "output_type": "stream",
          "text": [
            "83664\n"
          ]
        }
      ],
      "source": [
        "total_missing_values = df.isna().sum().sum()\n",
        "print(total_missing_values)"
      ]
    },
    {
      "cell_type": "code",
      "execution_count": 22,
      "metadata": {},
      "outputs": [
        {
          "name": "stdout",
          "output_type": "stream",
          "text": [
            "83656\n"
          ]
        }
      ],
      "source": [
        "missing_label = df['Label'].isna().sum()\n",
        "print(missing_label)"
      ]
    },
    {
      "cell_type": "code",
      "execution_count": 32,
      "metadata": {},
      "outputs": [],
      "source": [
        "df = df.dropna()"
      ]
    }
  ],
  "metadata": {
    "language_info": {
      "name": "python"
    }
  },
  "nbformat": 4,
  "nbformat_minor": 2
}
