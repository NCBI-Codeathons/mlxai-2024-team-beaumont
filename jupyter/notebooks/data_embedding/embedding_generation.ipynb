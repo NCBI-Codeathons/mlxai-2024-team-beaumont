{
    "cells": [
      {
        "attachments": {},
        "cell_type": "markdown",
        "metadata": {
          "id": "2-XDGL6Oi6h4"
        },
        "source": [
          "#### [LangChain Handbook](https://pinecone.io/learn/langchain)\n",
          "\n",
          "# LangChain Multi-Query for RAG"
        ]
      },
      {
        "cell_type": "code",
        "execution_count": 33,
        "metadata": {
          "id": "P7E6JYtb0cW7"
        },
        "outputs": [],
        "source": [
          "from langchain.docstore.document import Document\n",
          "\n",
          "docs = []\n",
          "\n",
          "for row in df.itertuples():\n",
          "    # Example output Pandas(Index=0, Study='AADR', Variable='AUGDATE_FZD', Label='Augmentation Date, fzd')\n",
          "    doc = Document(\n",
          "        page_content=row[3],  # replace \"row['Label']\" with \"row[1]\"\n",
          "        metadata={\n",
          "            \"Study\": row[1],  # replace \"row['Study']\" with \"row[2]\"\n",
          "            \"Variable\": row[2],  # replace \"row['Variable']\" with \"row[3]\"\n",
          "            \"id\": row[0],  # replace \"row['Index']\" with \"row[1]\"\n",
          "            \"text\": row[3]  # replace \"row['Label']\" with \"row[1]\"\n",
          "        }\n",
          "    )\n",
          "    docs.append(doc)\n"
        ]
      },
      {
        "cell_type": "code",
        "execution_count": 34,
        "metadata": {},
        "outputs": [
          {
            "data": {
              "text/plain": [
                "{'Study': 'AADR',\n",
                " 'Variable': 'AUGDATE_FZD',\n",
                " 'id': 0,\n",
                " 'text': 'Augmentation Date, fzd'}"
              ]
            },
            "execution_count": 34,
            "metadata": {},
            "output_type": "execute_result"
          }
        ],
        "source": [
          "docs[0].metadata"
        ]
      },
      {
        "cell_type": "code",
        "execution_count": 35,
        "metadata": {},
        "outputs": [
          {
            "data": {
              "text/plain": [
                "'Augmentation Date, fzd'"
              ]
            },
            "execution_count": 35,
            "metadata": {},
            "output_type": "execute_result"
          }
        ],
        "source": [
          "docs[0].page_content"
        ]
      },
      {
        "attachments": {},
        "cell_type": "markdown",
        "metadata": {
          "id": "yb540kEs_6PZ"
        },
        "source": [
          "## Embedding and Vector DB Setup"
        ]
      },
      {
        "attachments": {},
        "cell_type": "markdown",
        "metadata": {
          "id": "BlKEmBZMBxtd"
        },
        "source": [
          "Initialize our embedding model:"
        ]
      },
      {
        "cell_type": "code",
        "execution_count": 36,
        "metadata": {
          "id": "qZ6vTiDPBznz"
        },
        "outputs": [],
        "source": [
          "import os\n",
          "from getpass import getpass\n",
          "# from langchain.embeddings.openai import OpenAIEmbeddings\n",
          "from langchain_openai import OpenAIEmbeddings\n",
          "\n",
          "model_name = \"text-embedding-ada-002\"\n",
          "\n",
          "# get openai api key from platform.openai.com\n",
          "OPENAI_API_KEY = os.getenv('OPENAI_API_KEY') or getpass(\"OpenAI API Key: \")\n",
          "embed = OpenAIEmbeddings(\n",
          "    model=model_name, openai_api_key=OPENAI_API_KEY, disallowed_special=()\n",
          ")"
        ]
      },
      {
        "attachments": {},
        "cell_type": "markdown",
        "metadata": {
          "id": "IurEkeeI-IYl"
        },
        "source": [
          "Now we create our vector DB to store our vectors. For this we need to get a [free Pinecone API key](https://app.pinecone.io) — the API key can be found in the \"API Keys\" button found in the left navbar of the Pinecone dashboard."
        ]
      },
      {
        "cell_type": "code",
        "execution_count": 37,
        "metadata": {},
        "outputs": [],
        "source": [
          "from pinecone import Pinecone\n",
          "\n",
          "# initialize connection to pinecone (get API key at app.pinecone.io)\n",
          "api_key = os.getenv(\"PINECONE_API_KEY\") or getpass(\"Enter your Pinecone API key: \")\n",
          "\n",
          "# configure client\n",
          "pc = Pinecone(api_key=api_key)"
        ]
      },
      {
        "cell_type": "markdown",
        "metadata": {},
        "source": [
          "Now we setup our index specification, this allows us to define the cloud provider and region where we want to deploy our index. You can find a list of all [available providers and regions here](https://docs.pinecone.io/docs/projects)."
        ]
      },
      {
        "cell_type": "code",
        "execution_count": 38,
        "metadata": {},
        "outputs": [],
        "source": [
          "from pinecone import ServerlessSpec\n",
          "\n",
          "spec = ServerlessSpec(\n",
          "    cloud=\"aws\", region=\"us-west-2\"\n",
          ")"
        ]
      },
      {
        "cell_type": "markdown",
        "metadata": {},
        "source": [
          "Creating an index, we set `dimension` equal to to dimensionality of Ada-002 (`1536`), and use a `metric` also compatible with Ada-002 (this can be either `cosine` or `dotproduct`). We also pass our `spec` to index initialization."
        ]
      },
      {
        "cell_type": "code",
        "execution_count": 39,
        "metadata": {
          "id": "nL3KFF9E9Qb_"
        },
        "outputs": [
          {
            "data": {
              "text/plain": [
                "{'dimension': 1536,\n",
                " 'index_fullness': 0.0,\n",
                " 'namespaces': {},\n",
                " 'total_vector_count': 0}"
              ]
            },
            "execution_count": 39,
            "metadata": {},
            "output_type": "execute_result"
          }
        ],
        "source": [
          "import time\n",
          "\n",
          "index_name = \"langchain-multi-query-demo\"\n",
          "existing_indexes = [\n",
          "    index_info[\"name\"] for index_info in pc.list_indexes()\n",
          "]\n",
          "\n",
          "# check if index already exists (it shouldn't if this is first time)\n",
          "if index_name not in existing_indexes:\n",
          "    # if does not exist, create index\n",
          "    pc.create_index(\n",
          "        index_name,\n",
          "        dimension=1536,  # dimensionality of ada 002\n",
          "        metric='dotproduct',\n",
          "        spec=spec\n",
          "    )\n",
          "    # wait for index to be initialized\n",
          "    while not pc.describe_index(index_name).status['ready']:\n",
          "        time.sleep(1)\n",
          "\n",
          "# connect to index\n",
          "index = pc.Index(index_name)\n",
          "time.sleep(1)\n",
          "# view index stats\n",
          "index.describe_index_stats()"
        ]
      },
      {
        "attachments": {},
        "cell_type": "markdown",
        "metadata": {
          "id": "A3B7dHsd6QcP"
        },
        "source": [
          "Populate our index:"
        ]
      },
      {
        "cell_type": "code",
        "execution_count": 40,
        "metadata": {
          "id": "B7Yi2YGBpTWf"
        },
        "outputs": [
          {
            "data": {
              "text/plain": [
                "388951"
              ]
            },
            "execution_count": 40,
            "metadata": {},
            "output_type": "execute_result"
          }
        ],
        "source": [
          "len(docs)"
        ]
      },
      {
        "cell_type": "code",
        "execution_count": 8,
        "metadata": {
          "id": "thfCYHuSpW4H"
        },
        "outputs": [],
        "source": [
          "# if you want to speed things up to follow along\n",
          "#docs = docs[:5000]"
        ]
      },
      {
        "cell_type": "code",
        "execution_count": 41,
        "metadata": {
          "id": "HXVVU97C6SwT"
        },
        "outputs": [
          {
            "name": "stderr",
            "output_type": "stream",
            "text": [
              "100%|██████████| 3890/3890 [2:43:33<00:00,  2.52s/it]  \n"
            ]
          }
        ],
        "source": [
          "from tqdm.auto import tqdm\n",
          "\n",
          "batch_size = 100\n",
          "\n",
          "for i in tqdm(range(0, len(docs), batch_size)):\n",
          "    i_end = min(len(docs), i+batch_size)\n",
          "    docs_batch = docs[i:i_end]\n",
          "    # get IDs\n",
          "    ids = [f\"{doc.metadata['id']}-{doc.metadata['Variable']}\" for doc in docs_batch]\n",
          "    # get text and embed\n",
          "    texts = [d.page_content for d in docs_batch]\n",
          "    embeds = embed.embed_documents(texts=texts)\n",
          "    # get metadata\n",
          "    metadata = [d.metadata for d in docs_batch]\n",
          "    to_upsert = zip(ids, embeds, metadata)\n",
          "    index.upsert(vectors=to_upsert)"
        ]
      }
     
    ],
    "metadata": {
      "colab": {
        "provenance": []
      },
      "kernelspec": {
        "display_name": "Python 3",
        "name": "python3"
      },
      "language_info": {
        "codemirror_mode": {
          "name": "ipython",
          "version": 3
        },
        "file_extension": ".py",
        "mimetype": "text/x-python",
        "name": "python",
        "nbconvert_exporter": "python",
        "pygments_lexer": "ipython3",
        "version": "3.12.1"
      }
    },
    "nbformat": 4,
    "nbformat_minor": 0
  }
  