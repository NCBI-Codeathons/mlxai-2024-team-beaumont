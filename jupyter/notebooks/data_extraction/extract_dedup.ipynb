{
 "cells": [
  {
   "cell_type": "markdown",
   "id": "71fc8f66-d927-4b0c-a91d-ec8809368789",
   "metadata": {},
   "source": [
    "## extract data from biolincc_dedupLUT"
   ]
  },
  {
   "cell_type": "code",
   "execution_count": 3,
   "id": "a7ff61be-ea5a-4818-92df-a5d3e9253f5f",
   "metadata": {},
   "outputs": [
    {
     "name": "stdout",
     "output_type": "stream",
     "text": [
      "Data extracted and saved to ../raw_data/v2/biolincc_dedupLUT.tsv\n"
     ]
    }
   ],
   "source": [
    "from xml.etree import ElementTree as ET\n",
    "import pandas as pd\n",
    "\n",
    "def extract_data_from_xml(file_path, output_file_path):\n",
    "    # Load and parse the XML file\n",
    "    tree = ET.parse(file_path)\n",
    "    root = tree.getroot()\n",
    "\n",
    "    # Initialize a list to hold the extracted data\n",
    "    data = []\n",
    "\n",
    "    # Iterate over each BIOLINCC_DEDUPLUT element and extract the required information\n",
    "    for deduplut in root.findall('.//BIOLINCC_DEDUPLUT'):\n",
    "        study = deduplut.find('Study').text if deduplut.find('Study') is not None else ''\n",
    "        variable = deduplut.find('Variable').text if deduplut.find('Variable') is not None else ''\n",
    "        label = deduplut.find('Label').text if deduplut.find('Label') is not None else ''\n",
    "        uid = deduplut.find('UID').text if deduplut.find('UID') is not None else ''\n",
    "        \n",
    "        # Append the extracted data to the list\n",
    "        data.append([study, variable, label, uid])\n",
    "\n",
    "    # Convert the list to a DataFrame for easier handling\n",
    "    df = pd.DataFrame(data, columns=['Study', 'Variable', 'Label', 'UID'])\n",
    "\n",
    "    # Save the DataFrame to a TSV file\n",
    "    df.to_csv(output_file_path, sep='\\t', index=False)\n",
    "\n",
    "# Specify the file paths\n",
    "file_path = '../raw_data/v2/biolincc_dedupLUT.xml'  # Update this to your XML file path\n",
    "output_file_path = '../raw_data/v2/biolincc_dedupLUT.tsv'  # Update this to your desired output file path\n",
    "\n",
    "# Call the function\n",
    "extract_data_from_xml(file_path, output_file_path)\n",
    "\n",
    "print(f\"Data extracted and saved to {output_file_path}\")\n"
   ]
  },
  {
   "cell_type": "markdown",
   "id": "04a57f62-ab89-4c0a-b8e0-548019d4ddcd",
   "metadata": {},
   "source": [
    "## extract data from biolincc_deduplabelsclean"
   ]
  },
  {
   "cell_type": "code",
   "execution_count": 4,
   "id": "510a3566-ee13-4d91-8e30-fab6ed3befa5",
   "metadata": {},
   "outputs": [
    {
     "name": "stdout",
     "output_type": "stream",
     "text": [
      "Data extracted and saved to ../raw_data/v2/biolincc_deduplabelsclean.tsv\n"
     ]
    }
   ],
   "source": [
    "from xml.etree import ElementTree as ET\n",
    "import pandas as pd\n",
    "\n",
    "def extract_data_from_xml(file_path, output_file_path):\n",
    "    # Load and parse the XML file\n",
    "    tree = ET.parse(file_path)\n",
    "    root = tree.getroot()\n",
    "\n",
    "    # Initialize a list to hold the extracted data\n",
    "    data = []\n",
    "\n",
    "    # Iterate over each BIOLINCC_DEDUPLUT element and extract the required information\n",
    "    for deduplut in root.findall('.//BIOLINCC_DEDUPLABELSCLEAN'):\n",
    "        label_clean = deduplut.find('label_clean').text if deduplut.find('label_clean') is not None else ''\n",
    "        # variable = deduplut.find('Variable').text if deduplut.find('Variable') is not None else ''\n",
    "        # label = deduplut.find('Label').text if deduplut.find('Label') is not None else ''\n",
    "        uid = deduplut.find('UID').text if deduplut.find('UID') is not None else ''\n",
    "        \n",
    "        # Append the extracted data to the list\n",
    "        data.append([label_clean, uid])\n",
    "\n",
    "    # Convert the list to a DataFrame for easier handling\n",
    "    df = pd.DataFrame(data, columns=['label_clean', 'UID'])\n",
    "\n",
    "    # Save the DataFrame to a TSV file\n",
    "    df.to_csv(output_file_path, sep='\\t', index=False)\n",
    "\n",
    "# Specify the file paths\n",
    "file_path = '../raw_data/v2/biolincc_deduplabelsclean.xml'  # Update this to your XML file path\n",
    "output_file_path = '../raw_data/v2/biolincc_deduplabelsclean.tsv'  # Update this to your desired output file path\n",
    "\n",
    "# Call the function\n",
    "extract_data_from_xml(file_path, output_file_path)\n",
    "\n",
    "print(f\"Data extracted and saved to {output_file_path}\")\n"
   ]
  },
  {
   "cell_type": "code",
   "execution_count": 7,
   "id": "5ea1bc2a-a609-4be6-bd46-9165760f0057",
   "metadata": {},
   "outputs": [],
   "source": [
    "!pip freeze > requirements.txt"
   ]
  }
 ],
 "metadata": {
  "kernelspec": {
   "display_name": "Python 3 (ipykernel)",
   "language": "python",
   "name": "python3"
  },
  "language_info": {
   "codemirror_mode": {
    "name": "ipython",
    "version": 3
   },
   "file_extension": ".py",
   "mimetype": "text/x-python",
   "name": "python",
   "nbconvert_exporter": "python",
   "pygments_lexer": "ipython3",
   "version": "3.11.6"
  }
 },
 "nbformat": 4,
 "nbformat_minor": 5
}
