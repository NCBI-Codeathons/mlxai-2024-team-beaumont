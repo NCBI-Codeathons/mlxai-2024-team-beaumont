{
 "cells": [
  {
   "cell_type": "markdown",
   "metadata": {},
   "source": [
    "# User Data Dictionary \n",
    "\n",
    "## Input\n",
    "\n",
    "Reranked RAG Results from Cohere Rerank model see docs => [Cohere Rerank Documentation](https://docs.cohere.com/reference/rerank-1)\n",
    "\n",
    "## Outcome\n",
    "\n",
    "Produces a dataframe of data that suggests variable options based on a user input data dictionary in phase 1.\n",
    "\n",
    "### Output Dataframe structure:\n",
    "\n",
    "First 3 columns are related to a row of user data: \n",
    "\n",
    "user_study | user_var | user_label \n",
    "\n",
    "The next columns are specific to the LLM Output. Cohere will return the top 3 values for each variable and each option will contain the following columns:\n",
    "\n",
    "| option_X_var | option_X_score | option_X_label | option_X_study\n",
    "\n",
    "#### Conditional output scenarios\n",
    "\n",
    "1) If one of the options returns a significantly high match and there are no other close competing options, then we will only return the first value\n",
    "2) If there are no good options we return the options AND prompt our LLM to return an explantion of why the three options are faulty\n",
    "3) If all/multiple options have a close significant match score we return all three options AND query a vector database on which variable's study most closely matches our current user submitted study (TBD)\n",
    "\n",
    "| Column 1 | Column 2 | Column 3 |\n",
    "| -------- | -------- | -------- |\n",
    "| Cell 1A  | Cell 2A  | Cell 3A  |\n",
    "| Cell 1B  | Cell 2B  | Cell 3B  |"
   ]
  },
  {
   "cell_type": "code",
   "execution_count": null,
   "metadata": {},
   "outputs": [],
   "source": []
  }
 ],
 "metadata": {
  "language_info": {
   "name": "python"
  }
 },
 "nbformat": 4,
 "nbformat_minor": 2
}
